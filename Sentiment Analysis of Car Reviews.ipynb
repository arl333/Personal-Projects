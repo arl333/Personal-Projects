{
 "cells": [
  {
   "cell_type": "markdown",
   "id": "1fd5ce01",
   "metadata": {},
   "source": [
    "# Sentiment Analysis of Car Reviews\n",
    "\n",
    "## Data\n",
    "\n",
    "Our goal for this project is to carry out sentiment analysis of reviews for Ford motor vehicles. There are 1,382 reviews in the CSV file in total, 691 of which are positive and 691 of which are negative. Each review is labelled with either ‘Pos’ or ‘Neg’ to indicate whether the review has been assessed as positive or negative in the sentiment it expresses. We are treating these labels as a reliable indicator of sentiment and assume that there are no neutral reviews. \n",
    "\n",
    "## Task 1\n",
    "\n",
    "We are going to implement a Naïve Bayes classifier using 80% (1106) of the reviews as training data. The\n",
    "training data should will be selected at random from the full dataset. The classifier, created using **MultinomialNB** from **scikit-learn**, will be tested using the remaining 20% (276) of the reviews and report the classifier’s performance using a confusion matrix.\n",
    "\n",
    "To avoid issues of data [leakage](https://en.wikipedia.org/wiki/Leakage_(machine_learning)\n",
    ", the classifier should only be trained using data that it has access to from within the training data set. If there are words that only appear in the test data, they should not be part of the classifier. We will ensure sure that the code is able to deal with encountering words in the test data that the classifier has not seen in the training data. \n",
    "\n",
    "Some clean up of the data should be performed using it in the classifier. This will include:\n",
    "- Identifying and excluding all punctuation and words that are not likely to affect sentiment (eg. [stopwords](https://en.wikipedia.org/wiki/Stop_word)). Natural Language Toolkit (NLTK) in Python will be used to process the data.\n",
    "- ensuring that remaining words are not case sensitive (i.e. the classifier should not distinguish upper/lowercase characters).\n",
    "\n",
    "The sentiment classifier will use a [bag of words technique](https://en.wikipedia.org/wiki/Bag-of-words_model), in which we will build a vocabulary of individual words that appear in the dataset once it has been cleaned up.\n",
    "\n",
    "We will attempt to treat minor variations of a word (e.g. ‘fault’, ‘faults’ and ‘faulty’) as instances of the same\n",
    "word (e.g. ‘fault’) when we are using them in your classifier. We will implement [stemming](https://en.wikipedia.org/wiki/Stemming) as a way of doing this using the **PorterStemmer** function.\n",
    "\n",
    "For each review a vector will be created, using **CountVectorizer** as input for the classifier, containing EITHER binary values indicating whether a word/stem occurs in the review OR a numerical count of the number of times each word/stem appears.As described above, vectors that are used to train the classifier should only include words that appear in the training data (and not words that only exist within the test data).\n",
    "\n",
    "First, lets import all the modules\n",
    "\n"
   ]
  },
  {
   "cell_type": "code",
   "execution_count": 1,
   "id": "ef61d0ee",
   "metadata": {},
   "outputs": [
    {
     "name": "stderr",
     "output_type": "stream",
     "text": [
      "[nltk_data] Downloading package stopwords to\n",
      "[nltk_data]     C:\\Users\\Ashley\\AppData\\Roaming\\nltk_data...\n",
      "[nltk_data]   Package stopwords is already up-to-date!\n",
      "[nltk_data] Downloading package punkt to\n",
      "[nltk_data]     C:\\Users\\Ashley\\AppData\\Roaming\\nltk_data...\n",
      "[nltk_data]   Package punkt is already up-to-date!\n"
     ]
    }
   ],
   "source": [
    "#Importing modules\n",
    "import pandas as pd\n",
    "import numpy as np\n",
    "import seaborn as sns\n",
    "import re\n",
    "from IPython.display import display\n",
    "\n",
    "#Importing necessary from NLTK and scikit-learn\n",
    "import nltk\n",
    "from nltk.tokenize import word_tokenize #tokenize words\n",
    "from nltk.corpus import stopwords #stopwords dataset\n",
    "from nltk.stem.porter import PorterStemmer #stemming to treat minor variations\n",
    "\n",
    "from sklearn.naive_bayes import MultinomialNB #to create the Naive Bayes classifier on the data\n",
    "from sklearn.feature_extraction.text import CountVectorizer #to generate a vector for each review\n",
    "from sklearn.model_selection import train_test_split #to split the data into training and test sets\n",
    "from sklearn.metrics import accuracy_score, confusion_matrix #to get the accuracy and confusion matrix of classifier\n",
    "\n",
    "nltk.download('stopwords') #downloading this so that we get the list of stopwords\n",
    "nltk.download('punkt') #downloading this so that word_tokenize works\n",
    "ps = PorterStemmer() #assigns the PorterStemmer needed for stemming\n",
    "vect = CountVectorizer() #assigns the CountVectorizer needed for generating count vector for reviews\n",
    "\n"
   ]
  },
  {
   "cell_type": "markdown",
   "id": "a2dc18f4",
   "metadata": {},
   "source": [
    "Let's have a look at the dataset"
   ]
  },
  {
   "cell_type": "code",
   "execution_count": 2,
   "id": "d9fae311",
   "metadata": {},
   "outputs": [
    {
     "data": {
      "text/html": [
       "<div>\n",
       "<style scoped>\n",
       "    .dataframe tbody tr th:only-of-type {\n",
       "        vertical-align: middle;\n",
       "    }\n",
       "\n",
       "    .dataframe tbody tr th {\n",
       "        vertical-align: top;\n",
       "    }\n",
       "\n",
       "    .dataframe thead th {\n",
       "        text-align: right;\n",
       "    }\n",
       "</style>\n",
       "<table border=\"1\" class=\"dataframe\">\n",
       "  <thead>\n",
       "    <tr style=\"text-align: right;\">\n",
       "      <th></th>\n",
       "      <th>Sentiment</th>\n",
       "      <th>Review</th>\n",
       "    </tr>\n",
       "  </thead>\n",
       "  <tbody>\n",
       "    <tr>\n",
       "      <th>0</th>\n",
       "      <td>Neg</td>\n",
       "      <td>In 1992 we bought a new Taurus and we really ...</td>\n",
       "    </tr>\n",
       "    <tr>\n",
       "      <th>1</th>\n",
       "      <td>Neg</td>\n",
       "      <td>The last business trip  I drove to San Franci...</td>\n",
       "    </tr>\n",
       "    <tr>\n",
       "      <th>2</th>\n",
       "      <td>Neg</td>\n",
       "      <td>My husband and I purchased a 1990 Ford F250 a...</td>\n",
       "    </tr>\n",
       "    <tr>\n",
       "      <th>3</th>\n",
       "      <td>Neg</td>\n",
       "      <td>I feel I have a thorough opinion of this truc...</td>\n",
       "    </tr>\n",
       "    <tr>\n",
       "      <th>4</th>\n",
       "      <td>Neg</td>\n",
       "      <td>AS a mother of 3  all of whom are still in ca...</td>\n",
       "    </tr>\n",
       "  </tbody>\n",
       "</table>\n",
       "</div>"
      ],
      "text/plain": [
       "  Sentiment                                             Review\n",
       "0       Neg   In 1992 we bought a new Taurus and we really ...\n",
       "1       Neg   The last business trip  I drove to San Franci...\n",
       "2       Neg   My husband and I purchased a 1990 Ford F250 a...\n",
       "3       Neg   I feel I have a thorough opinion of this truc...\n",
       "4       Neg   AS a mother of 3  all of whom are still in ca..."
      ]
     },
     "metadata": {},
     "output_type": "display_data"
    },
    {
     "name": "stdout",
     "output_type": "stream",
     "text": [
      "<class 'pandas.core.frame.DataFrame'>\n",
      "RangeIndex: 1382 entries, 0 to 1381\n",
      "Data columns (total 2 columns):\n",
      " #   Column     Non-Null Count  Dtype \n",
      "---  ------     --------------  ----- \n",
      " 0   Sentiment  1382 non-null   object\n",
      " 1   Review     1382 non-null   object\n",
      "dtypes: object(2)\n",
      "memory usage: 21.7+ KB\n"
     ]
    },
    {
     "data": {
      "text/plain": [
       "None"
      ]
     },
     "metadata": {},
     "output_type": "display_data"
    }
   ],
   "source": [
    "reviews = pd.read_csv('car_reviews.csv')\n",
    "display(reviews.head())\n",
    "display(reviews.info())"
   ]
  },
  {
   "cell_type": "markdown",
   "id": "4f42e024",
   "metadata": {},
   "source": [
    "We can clearly see there are only 2 columns in the dataset: the sentiment and corresponding review, where both are strings \n",
    "\n",
    "Now let's create a function that cleans the strings. We will use this function to clean text in the *Reviews* column."
   ]
  },
  {
   "cell_type": "code",
   "execution_count": 3,
   "id": "e6035ea8",
   "metadata": {},
   "outputs": [],
   "source": [
    "def clean(string):\n",
    "    string = string.lower() #convert string to lower case\n",
    "    string = re.sub('[^a-z]', ' ', string) #replacing non-alphabetical characters with a blank\n",
    "    tokenize = word_tokenize(string) #tokenize the strings\n",
    "    stemmed_token_list = [ps.stem(token) for token in tokenize if token not in set(stopwords.words('english'))] #list of stemmed words/tokens\n",
    "    clean_string = \" \".join(stemmed_token_list) #converts list to string\n",
    "    \n",
    "    return clean_string \n"
   ]
  },
  {
   "cell_type": "markdown",
   "id": "24f0fefe",
   "metadata": {},
   "source": [
    "Now, we are going to store all the processes reviews in a list and show a comparison between an orignal and its cleaned string (review) to clearly demonstrate that words and punctuation, which are unlikely to affect sentiment, have been excluded from the sentiment classifier AND that the remaining words are not being handled in a case sensitive way"
   ]
  },
  {
   "cell_type": "code",
   "execution_count": 4,
   "id": "8806e6c2",
   "metadata": {},
   "outputs": [
    {
     "name": "stdout",
     "output_type": "stream",
     "text": [
      "Original String:\n",
      "\n",
      " My husband and I purchased a 1990 Ford F250 and had nothing but problems  we have owned the vehicle approximately two years and it has spent at least half of that time in the shop The first problem was the valve covers were leaking  This problem took three days in the shop  When we went to pick it up  we found that the mechanic at the dealership did not replace parts that he had to take off  This took an additional week  Because of the poor design  fixing this vehicle was not found to be cheap  nor could just any mechanic do the work Next   within one week  the serpentine belt came off the pulleys and sheared off the air conditioning power plug  This also took nearly a week to fix  Cause of this problem was unknown Next  the clean air pump broke  again within a week  This took about four days to fix  When I picked up the truck after the air pump  I didn t realize at the time that the mechanic had not hooked back up a hose to the transmission  So  after driving it for three days  my transmission needed to be rebuilt  Due to unavailable parts  a new transmission replaced the old  Which was mated to a junk yard transfer case  This repair took about 5 days Truck vibrates at about 70 miles an hour  so we spent  1700  on a new front end  tires  balancing etc  This did not help the situation Within two weeks the serpentine belt was replaced for the second time since I bought the vehicle  The truck had 98 000 miles when I took over so I expected some problems don t get me wrong  but newer vehicles are said too have 200 000 mile motor s I noticed a large loss of power after said repairs  then began the costly fixes and diagnostics to find cause of power loss  The gas mileage at this point is about 10mpg never increasing the belt replacement continued till the present date at a belt every month  The truck went into the shop again for transmission leaks to a ford dealership where the problems found mounted  Once again unavailable and discontinued parts This is not even close to being all of the problems  but I think I ve said enough     \n",
      "\n",
      "Clean String:\n",
      "\n",
      "husband purchas ford f noth problem own vehicl approxim two year spent least half time shop first problem valv cover leak problem took three day shop went pick found mechan dealership replac part take took addit week poor design fix vehicl found cheap could mechan work next within one week serpentin belt came pulley shear air condit power plug also took nearli week fix caus problem unknown next clean air pump broke within week took four day fix pick truck air pump realiz time mechan hook back hose transmiss drive three day transmiss need rebuilt due unavail part new transmiss replac old mate junk yard transfer case repair took day truck vibrat mile hour spent new front end tire balanc etc help situat within two week serpentin belt replac second time sinc bought vehicl truck mile took expect problem get wrong newer vehicl said mile motor notic larg loss power said repair began costli fix diagnost find caus power loss ga mileag point mpg never increas belt replac continu till present date belt everi month truck went shop transmiss leak ford dealership problem found mount unavail discontinu part even close problem think said enough\n"
     ]
    }
   ],
   "source": [
    "processed_reviews = []\n",
    "\n",
    "for i in range(reviews.shape[0]):\n",
    "    review = reviews.iloc[i,1]\n",
    "    clean_review = clean(review)\n",
    "    processed_reviews.append(clean_review)\n",
    "    \n",
    "#Showing comparison between original and cleaned string \n",
    "original_string = reviews['Review'][2]\n",
    "print('Original String:')\n",
    "print('')\n",
    "print(original_string)\n",
    "print('')\n",
    "print('Clean String:')\n",
    "print('')\n",
    "print(processed_reviews[2]) \n",
    "\n",
    "\n",
    "    "
   ]
  },
  {
   "cell_type": "markdown",
   "id": "076a6319",
   "metadata": {},
   "source": [
    "To show how stemming works, the code cell below clearly demonstrates that words with the same stem have been appropriately recognised and treated as variations of the 3 different stems."
   ]
  },
  {
   "cell_type": "code",
   "execution_count": 5,
   "id": "f8d16ccc",
   "metadata": {},
   "outputs": [
    {
     "name": "stdout",
     "output_type": "stream",
     "text": [
      "\n",
      "['developer', 'developing', 'developed', 'develops']: ['develop', 'develop', 'develop', 'develop']\n",
      "\n",
      "['hammers', 'hammered', 'hammering']: ['hammer', 'hammer', 'hammer']\n",
      "\n",
      "['join', 'joining', 'joined', 'joins']: ['join', 'join', 'join', 'join']\n",
      "\n"
     ]
    }
   ],
   "source": [
    "#few examples of words having the same stem\n",
    "list1 = ['developer', 'developing', 'developed', 'develops']\n",
    "list2 = ['hammers', 'hammered', 'hammering']\n",
    "list3 = ['join', 'joining', 'joined', 'joins']\n",
    "\n",
    "#store stemmed words in a list\n",
    "stem1 = [ps.stem(word) for word in list1]\n",
    "stem2 = [ps.stem(word) for word in list2]\n",
    "stem3 = [ps.stem(word) for word in list3]\n",
    "\n",
    "print('')\n",
    "print(str(list1) + \": \" + str(stem1))\n",
    "print('')\n",
    "print(str(list2) + \": \" + str(stem2))\n",
    "print('')\n",
    "print(str(list3) + \": \" + str(stem3))\n",
    "print('')"
   ]
  },
  {
   "cell_type": "markdown",
   "id": "65fc5af8",
   "metadata": {},
   "source": [
    "To have a better understanding of how to get the count vector, we will look through 3 reviews of the dataset and see the number of times that a word (or word stem) appears"
   ]
  },
  {
   "cell_type": "code",
   "execution_count": 6,
   "id": "9c284c81",
   "metadata": {
    "scrolled": true
   },
   "outputs": [
    {
     "name": "stdout",
     "output_type": "stream",
     "text": [
      "\n",
      "Count vector for review 1:\n"
     ]
    },
    {
     "data": {
      "text/html": [
       "<div>\n",
       "<style scoped>\n",
       "    .dataframe tbody tr th:only-of-type {\n",
       "        vertical-align: middle;\n",
       "    }\n",
       "\n",
       "    .dataframe tbody tr th {\n",
       "        vertical-align: top;\n",
       "    }\n",
       "\n",
       "    .dataframe thead th {\n",
       "        text-align: right;\n",
       "    }\n",
       "</style>\n",
       "<table border=\"1\" class=\"dataframe\">\n",
       "  <thead>\n",
       "    <tr style=\"text-align: right;\">\n",
       "      <th></th>\n",
       "      <th>anyway</th>\n",
       "      <th>back</th>\n",
       "      <th>batteri</th>\n",
       "      <th>bought</th>\n",
       "      <th>buy</th>\n",
       "      <th>car</th>\n",
       "      <th>card</th>\n",
       "      <th>care</th>\n",
       "      <th>chang</th>\n",
       "      <th>comfort</th>\n",
       "      <th>...</th>\n",
       "      <th>take</th>\n",
       "      <th>tank</th>\n",
       "      <th>tauru</th>\n",
       "      <th>thee</th>\n",
       "      <th>think</th>\n",
       "      <th>tire</th>\n",
       "      <th>tri</th>\n",
       "      <th>version</th>\n",
       "      <th>way</th>\n",
       "      <th>would</th>\n",
       "    </tr>\n",
       "  </thead>\n",
       "  <tbody>\n",
       "    <tr>\n",
       "      <th>0</th>\n",
       "      <td>1</td>\n",
       "      <td>1</td>\n",
       "      <td>1</td>\n",
       "      <td>2</td>\n",
       "      <td>1</td>\n",
       "      <td>1</td>\n",
       "      <td>1</td>\n",
       "      <td>1</td>\n",
       "      <td>1</td>\n",
       "      <td>1</td>\n",
       "      <td>...</td>\n",
       "      <td>1</td>\n",
       "      <td>1</td>\n",
       "      <td>3</td>\n",
       "      <td>1</td>\n",
       "      <td>1</td>\n",
       "      <td>1</td>\n",
       "      <td>1</td>\n",
       "      <td>1</td>\n",
       "      <td>1</td>\n",
       "      <td>2</td>\n",
       "    </tr>\n",
       "  </tbody>\n",
       "</table>\n",
       "<p>1 rows × 59 columns</p>\n",
       "</div>"
      ],
      "text/plain": [
       "   anyway  back  batteri  bought  buy  car  card  care  chang  comfort  ...  \\\n",
       "0       1     1        1       2    1    1     1     1      1        1  ...   \n",
       "\n",
       "   take  tank  tauru  thee  think  tire  tri  version  way  would  \n",
       "0     1     1      3     1      1     1    1        1    1      2  \n",
       "\n",
       "[1 rows x 59 columns]"
      ]
     },
     "metadata": {},
     "output_type": "display_data"
    },
    {
     "name": "stdout",
     "output_type": "stream",
     "text": [
      "\n",
      "Count vector for review 2:\n"
     ]
    },
    {
     "data": {
      "text/html": [
       "<div>\n",
       "<style scoped>\n",
       "    .dataframe tbody tr th:only-of-type {\n",
       "        vertical-align: middle;\n",
       "    }\n",
       "\n",
       "    .dataframe tbody tr th {\n",
       "        vertical-align: top;\n",
       "    }\n",
       "\n",
       "    .dataframe thead th {\n",
       "        text-align: right;\n",
       "    }\n",
       "</style>\n",
       "<table border=\"1\" class=\"dataframe\">\n",
       "  <thead>\n",
       "    <tr style=\"text-align: right;\">\n",
       "      <th></th>\n",
       "      <th>allow</th>\n",
       "      <th>anoth</th>\n",
       "      <th>anyon</th>\n",
       "      <th>area</th>\n",
       "      <th>basi</th>\n",
       "      <th>better</th>\n",
       "      <th>breez</th>\n",
       "      <th>busi</th>\n",
       "      <th>buy</th>\n",
       "      <th>car</th>\n",
       "      <th>...</th>\n",
       "      <th>uncomfort</th>\n",
       "      <th>unnecessarili</th>\n",
       "      <th>us</th>\n",
       "      <th>usag</th>\n",
       "      <th>usual</th>\n",
       "      <th>weigh</th>\n",
       "      <th>well</th>\n",
       "      <th>went</th>\n",
       "      <th>work</th>\n",
       "      <th>would</th>\n",
       "    </tr>\n",
       "  </thead>\n",
       "  <tbody>\n",
       "    <tr>\n",
       "      <th>0</th>\n",
       "      <td>1</td>\n",
       "      <td>1</td>\n",
       "      <td>1</td>\n",
       "      <td>1</td>\n",
       "      <td>1</td>\n",
       "      <td>1</td>\n",
       "      <td>1</td>\n",
       "      <td>2</td>\n",
       "      <td>1</td>\n",
       "      <td>7</td>\n",
       "      <td>...</td>\n",
       "      <td>4</td>\n",
       "      <td>1</td>\n",
       "      <td>3</td>\n",
       "      <td>1</td>\n",
       "      <td>1</td>\n",
       "      <td>1</td>\n",
       "      <td>1</td>\n",
       "      <td>1</td>\n",
       "      <td>1</td>\n",
       "      <td>2</td>\n",
       "    </tr>\n",
       "  </tbody>\n",
       "</table>\n",
       "<p>1 rows × 89 columns</p>\n",
       "</div>"
      ],
      "text/plain": [
       "   allow  anoth  anyon  area  basi  better  breez  busi  buy  car  ...  \\\n",
       "0      1      1      1     1     1       1      1     2    1    7  ...   \n",
       "\n",
       "   uncomfort  unnecessarili  us  usag  usual  weigh  well  went  work  would  \n",
       "0          4              1   3     1      1      1     1     1     1      2  \n",
       "\n",
       "[1 rows x 89 columns]"
      ]
     },
     "metadata": {},
     "output_type": "display_data"
    },
    {
     "name": "stdout",
     "output_type": "stream",
     "text": [
      "\n",
      "Count vector for review 3:\n"
     ]
    },
    {
     "data": {
      "text/html": [
       "<div>\n",
       "<style scoped>\n",
       "    .dataframe tbody tr th:only-of-type {\n",
       "        vertical-align: middle;\n",
       "    }\n",
       "\n",
       "    .dataframe tbody tr th {\n",
       "        vertical-align: top;\n",
       "    }\n",
       "\n",
       "    .dataframe thead th {\n",
       "        text-align: right;\n",
       "    }\n",
       "</style>\n",
       "<table border=\"1\" class=\"dataframe\">\n",
       "  <thead>\n",
       "    <tr style=\"text-align: right;\">\n",
       "      <th></th>\n",
       "      <th>addit</th>\n",
       "      <th>air</th>\n",
       "      <th>also</th>\n",
       "      <th>approxim</th>\n",
       "      <th>back</th>\n",
       "      <th>balanc</th>\n",
       "      <th>began</th>\n",
       "      <th>belt</th>\n",
       "      <th>bought</th>\n",
       "      <th>broke</th>\n",
       "      <th>...</th>\n",
       "      <th>valv</th>\n",
       "      <th>vehicl</th>\n",
       "      <th>vibrat</th>\n",
       "      <th>week</th>\n",
       "      <th>went</th>\n",
       "      <th>within</th>\n",
       "      <th>work</th>\n",
       "      <th>wrong</th>\n",
       "      <th>yard</th>\n",
       "      <th>year</th>\n",
       "    </tr>\n",
       "  </thead>\n",
       "  <tbody>\n",
       "    <tr>\n",
       "      <th>0</th>\n",
       "      <td>1</td>\n",
       "      <td>3</td>\n",
       "      <td>1</td>\n",
       "      <td>1</td>\n",
       "      <td>1</td>\n",
       "      <td>1</td>\n",
       "      <td>1</td>\n",
       "      <td>4</td>\n",
       "      <td>1</td>\n",
       "      <td>1</td>\n",
       "      <td>...</td>\n",
       "      <td>1</td>\n",
       "      <td>4</td>\n",
       "      <td>1</td>\n",
       "      <td>5</td>\n",
       "      <td>2</td>\n",
       "      <td>3</td>\n",
       "      <td>1</td>\n",
       "      <td>1</td>\n",
       "      <td>1</td>\n",
       "      <td>1</td>\n",
       "    </tr>\n",
       "  </tbody>\n",
       "</table>\n",
       "<p>1 rows × 121 columns</p>\n",
       "</div>"
      ],
      "text/plain": [
       "   addit  air  also  approxim  back  balanc  began  belt  bought  broke  ...  \\\n",
       "0      1    3     1         1     1       1      1     4       1      1  ...   \n",
       "\n",
       "   valv  vehicl  vibrat  week  went  within  work  wrong  yard  year  \n",
       "0     1       4       1     5     2       3     1      1     1     1  \n",
       "\n",
       "[1 rows x 121 columns]"
      ]
     },
     "metadata": {},
     "output_type": "display_data"
    }
   ],
   "source": [
    "#going through first 3 reviews in the dataset\n",
    "for i in range(3):\n",
    "    review = reviews['Review'][i] #get review\n",
    "    clean_review = clean(review) #get clean review\n",
    "\n",
    "    vector = vect.fit_transform([clean_review]) #converts review into a vector of token counts\n",
    "    df = pd.DataFrame(vector.A, columns = vect.get_feature_names()) #store vector in dataframe\n",
    "    \n",
    "    #Display count vector for a review\n",
    "    print('')\n",
    "    print('Count vector for review ' + str(i+1) + ':')\n",
    "    display(df)\n",
    "    "
   ]
  },
  {
   "cell_type": "markdown",
   "id": "dc006167",
   "metadata": {},
   "source": [
    "We are going to split up the test and training data using an 80/20 split.\n"
   ]
  },
  {
   "cell_type": "code",
   "execution_count": 7,
   "id": "417cc955",
   "metadata": {},
   "outputs": [
    {
     "name": "stdout",
     "output_type": "stream",
     "text": [
      "No. of reviews in the training split is: 1105\n",
      "No. of reviews in the test split is: 277\n"
     ]
    }
   ],
   "source": [
    "X = vect.fit_transform(processed_reviews).toarray()\n",
    "Y = reviews.iloc[:, 0]\n",
    "\n",
    "X_train, X_test, Y_train, Y_test = train_test_split(X,Y, test_size = 0.2)\n",
    "\n",
    "print('No. of reviews in the training split is: ' + str(len(X_train)))\n",
    "print('No. of reviews in the test split is: ' + str(len(X_test)))"
   ]
  },
  {
   "cell_type": "markdown",
   "id": "4e052935",
   "metadata": {},
   "source": [
    "We will use MultinomialNB from sci-kit learn to train the classifier with the training sets. The classifier will then be implemented on test data. We will also find out the accuracy score. Each classifier will be run again on the data it was trained on to show  that only the training data has been used up to the point where the model has been trained. Also, with MulitnomialNB, the code able to cope with words that appear in the test data but not in the training dataset"
   ]
  },
  {
   "cell_type": "code",
   "execution_count": 8,
   "id": "1b3e1ded",
   "metadata": {},
   "outputs": [
    {
     "name": "stdout",
     "output_type": "stream",
     "text": [
      "Length of X_train: 1105\n",
      "Length of Y_train: 1105\n",
      "\n",
      "Accuracy on the training data is: 91.58% \n",
      "Accuracy on the test data is: 79.06% \n",
      "\n"
     ]
    }
   ],
   "source": [
    "#train classifier with training data using MultinomialNB\n",
    "\n",
    "classifier = MultinomialNB()\n",
    "classifier.fit(X_train, Y_train)\n",
    "\n",
    "#print lenght of training sets\n",
    "print('Length of X_train: ' + str(len(X_train)))\n",
    "print('Length of Y_train: ' + str(len(Y_train)))\n",
    "print('')\n",
    "\n",
    "Y_pred = classifier.predict(X_test) #predicts sentiment for the test data \n",
    "\n",
    "#get confusion matrix and accuracy score\n",
    "training_accuracy = classifier.score(X_train, Y_train)\n",
    "\n",
    "matrix_cf = confusion_matrix(Y_test, Y_pred)\n",
    "test_accuracy = accuracy_score(Y_test, Y_pred)\n",
    "\n",
    "\n",
    "\n",
    "print('Accuracy on the training data is: %.2f%% ' % (training_accuracy * 100.0))\n",
    "print('Accuracy on the test data is: %.2f%% ' % (test_accuracy * 100.0))\n",
    "print('')\n"
   ]
  },
  {
   "cell_type": "code",
   "execution_count": 9,
   "id": "70635872",
   "metadata": {},
   "outputs": [
    {
     "name": "stdout",
     "output_type": "stream",
     "text": [
      "Confusion matrix:\n"
     ]
    },
    {
     "data": {
      "text/plain": [
       "<AxesSubplot:>"
      ]
     },
     "execution_count": 9,
     "metadata": {},
     "output_type": "execute_result"
    },
    {
     "data": {
      "image/png": "[encoded data removed]",
      "text/plain": [
       "<Figure size 432x288 with 2 Axes>"
      ]
     },
     "metadata": {
      "needs_background": "light"
     },
     "output_type": "display_data"
    }
   ],
   "source": [
    "def plot_matrix(matrix):\n",
    "    \n",
    "    label_names = ['True Neg', 'False Pos', 'False Neg', 'True Pos']\n",
    "    label_counts = [\"{0:0.0f}\".format(value) for value in matrix.flatten()]\n",
    "    label_percentages = [\"{0:.2%}\".format(value) for value in (matrix.flatten() / np.sum(matrix))]\n",
    "    \n",
    "    heatmap_labels = [f\"{v1}\\n{v2}\\n{v3}\" for v1, v2, v3 in zip (label_names, label_counts, label_percentages)]\n",
    "    heatmap_labels = np.asarray(heatmap_labels).reshape(2,2)\n",
    "    \n",
    "    \n",
    "    plot = sns.heatmap(matrix, fmt = '', annot = heatmap_labels, cmap='Greens')\n",
    "    \n",
    "    return plot\n",
    "\n",
    "print('Confusion matrix:')\n",
    "plot_matrix(matrix_cf)"
   ]
  },
  {
   "cell_type": "markdown",
   "id": "cef8a370",
   "metadata": {},
   "source": [
    "## Task 2\n",
    "\n",
    "The first task only considered individual words and not many words at once (using unigrams). To incorporate multi-word phrases in the classifier, we will use bigrams as well as unigrams to improve text classification **[1]**. When we use bigrams with unigrams, it means that we look at words in pairs as well as individually. We are doing this so that the classifier that does not classify a sentence having a positive sentiment accidentally. For example, in the sentence **Today was not great**, if we use unigrams to train the classifier it will ignore the \"not\" and classify this sentence as a positive sentiment when it is clearly expressing a negative one. However, if we use bigrams as well as unigrams to train the classifier, it will result in classifying the sentence as expressing a negative sentiment since it considers the phrase \"not great\". We can use bigrams only to improve the performance but it will be better to use bigrams as well as unigrams to significantly improve the performance **[2]**.\n",
    "\n",
    "### **References**\n",
    "**[1]** Chade-Meng Tan; Yuan-Fang Wang; Chan-Do Lee (2002). The use of bigrams to enhance text categorization. 38(4) 529–546\n",
    "\n",
    "**[2]** Igor Assis Braga, Maria Carolina Monard, Edson Takashi Matsubara. Combining Unigrams and Bigrams in\n",
    "Semi-Supervised Text Classification. Mathematics and Computer Science Institute\n",
    "University of Sao Paulo, Sao Carlos, SP 13566-590, Brazil {igorab,mcmonard,edsontm}@icmc.usp.br\n",
    "\n",
    "We will demonstrate how to implent bigrams as well as unigrams in the classifier and compare the results of Task 2 with Task 1\n"
   ]
  },
  {
   "cell_type": "code",
   "execution_count": 10,
   "id": "e64ebc00",
   "metadata": {},
   "outputs": [
    {
     "name": "stdout",
     "output_type": "stream",
     "text": [
      "Accuracy on the training data is: 100.00% \n",
      "Accuracy on the test data is: 80.87% \n",
      "\n",
      "Confusion matrix:\n"
     ]
    },
    {
     "data": {
      "text/plain": [
       "<AxesSubplot:>"
      ]
     },
     "execution_count": 10,
     "metadata": {},
     "output_type": "execute_result"
    },
    {
     "data": {
      "image/png": "[encoded data removed]",
      "text/plain": [
       "<Figure size 432x288 with 2 Axes>"
      ]
     },
     "metadata": {
      "needs_background": "light"
     },
     "output_type": "display_data"
    }
   ],
   "source": [
    "vector2 = CountVectorizer(ngram_range=(1,2)) \n",
    "#considers bigrams as well as unigrams, defaullt setting has ngram_range=(1,1) which only includes unigrams\n",
    "\n",
    "#Assign X and Y\n",
    "X2 = vector2.fit_transform(processed_reviews).toarray()\n",
    "Y2 = reviews.iloc[:, 0]\n",
    "\n",
    "#Split training and test data\n",
    "X2_train, X2_test, Y2_train, Y2_test = train_test_split(X2, Y2, test_size = 0.2)\n",
    "\n",
    "#train classifier with training data using MultinomialNB\n",
    "classifier2 = MultinomialNB()\n",
    "classifier2.fit(X2_train, Y2_train)\n",
    "\n",
    "Y2_pred = classifier2.predict(X2_test) #predicts sentiment for the test data\n",
    "\n",
    "#get updated confusion matrix and accuracy score\n",
    "matrix_cf2 = confusion_matrix(Y2_test, Y2_pred)\n",
    "test_accuracy2 = accuracy_score(Y2_test, Y2_pred)\n",
    "\n",
    "#display confusion matrix and accuracy\n",
    "training_accuracy2 = classifier2.score(X2_train, Y2_train)\n",
    "\n",
    "print('Accuracy on the training data is: %.2f%% ' % (training_accuracy2 * 100.0))\n",
    "print('Accuracy on the test data is: %.2f%% ' % (test_accuracy2 * 100.0))\n",
    "print('')\n",
    "print('Confusion matrix:')\n",
    "plot_matrix(matrix_cf2)"
   ]
  },
  {
   "cell_type": "markdown",
   "id": "e951d793",
   "metadata": {},
   "source": [
    "We can see the that accuracy on the training data is 100%, which means that all the sentiments have been predicted correctly in the training set. The test accuracy has a slight increase of about 2.5% but that is not too significant. \n",
    "\n",
    "The number of False positives have decreased significantly and True Negatives have increased meaning that the classifier had done a better job in identifying sentences with negative sentiments. Also we can see that the True Positives have decreased a bit.\n",
    "\n",
    "However, we see an increase in false negatives by 7 which is not too significant. But, it could be the fact that using incorporating bigrams might have made the classifier mistakenly seeing a positive sentiment as a negative one. \n",
    "\n",
    "In conclusion, incorporating bigrams with unigrams in the classifier will help increase accuracy and decrease the chances of getting false positive sentiment but it could lead to increasing chances of the classifier mistakenly seeing a positive sentiment as a negative one."
   ]
  },
  {
   "cell_type": "code",
   "execution_count": null,
   "id": "5db80361",
   "metadata": {},
   "outputs": [],
   "source": []
  }
 ],
 "metadata": {
  "kernelspec": {
   "display_name": "Python 3",
   "language": "python",
   "name": "python3"
  },
  "language_info": {
   "codemirror_mode": {
    "name": "ipython",
    "version": 3
   },
   "file_extension": ".py",
   "mimetype": "text/x-python",
   "name": "python",
   "nbconvert_exporter": "python",
   "pygments_lexer": "ipython3",
   "version": "3.8.8"
  }
 },
 "nbformat": 4,
 "nbformat_minor": 5
}
